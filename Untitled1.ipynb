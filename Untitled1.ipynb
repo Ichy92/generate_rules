{
 "cells": [
  {
   "cell_type": "code",
   "execution_count": 139,
   "metadata": {},
   "outputs": [],
   "source": []
  },
  {
   "cell_type": "code",
   "execution_count": 35,
   "metadata": {},
   "outputs": [],
   "source": [
    "import pandas as pd\n",
    "import numpy as np\n",
    "import numpy\n",
    "import json\n",
    "\n",
    "def to_str(data):\n",
    "    data = list(data)\n",
    "    for ix, i in enumerate(data):\n",
    "        i = i.tolist()\n",
    "        i[3]=str(i[3])\n",
    "#         print(i)\n",
    "        data[ix] = \" \".join(i)\n",
    "    return data\n",
    "\n",
    "def find_used(df, batas_min = 5):\n",
    "    df2 = df[['proto', 'source_ip', 'dest_ip', 'dest_port']]\n",
    "    xx = df2.to_numpy()\n",
    "    xx.tolist()\n",
    "    data_str = to_str(xx)\n",
    "    unik = list(set(data_str))\n",
    "\n",
    "    counter = list()\n",
    "    for u in unik:\n",
    "        counter.append(data_str.count(u))\n",
    "\n",
    "    index_final = list()\n",
    "    for ix, i in enumerate(counter):\n",
    "        if i >= batas_min:\n",
    "            index_final.append(ix)\n",
    "\n",
    "    final = np.array(data_str)[index_final]\n",
    "    return final\n",
    "\n",
    "\n",
    "with open('old_rules_.json', 'r') as f:\n",
    "    temp_rule = json.load(f)\n",
    "# temp_rule = list()\n",
    "\n",
    "with open('sid.json', 'r') as f:\n",
    "    temp_sid = json.load(f)\n",
    "    \n",
    "# temp_sid = [10000]\n",
    "\n",
    "def get_rules(final, temp_rule=temp_rule, save = True):\n",
    "    final_rule = list()\n",
    "    selected_rule = list()\n",
    "    for i in final:\n",
    "        i= i.split()\n",
    "        proto = i[0]\n",
    "        source_ip = i[1]\n",
    "        dest_ip = i[2]\n",
    "        dest_port = i[3]\n",
    "#         print(type(dest_port))\n",
    "        msg = convert_msg(proto, int(dest_port))\n",
    "        flag_dstnya = 'flags:S; thre$; threshold: type threshold, track by_dsc, count 1, second 60'\n",
    "    #     temp_sid.append(sid)\n",
    "        rule_ = str('alert {} {} any -> {} {} any msg: \"{}\"; {}; rev: 1;'.format(proto, source_ip, dest_ip, dest_port, msg, flag_dstnya))\n",
    "    #     print(rule_)\n",
    "        if rule_ not in temp_rule:\n",
    "            selected_rule.append(rule_)\n",
    "\n",
    "    # print(len(selected_rule))\n",
    "    sid_list =[x for x in range(temp_sid[-1], temp_sid[-1]+len(selected_rule))]\n",
    "    temp_rule = temp_rule+selected_rule\n",
    "    sid_list = temp_sid+sid_list\n",
    "    \n",
    "    if save == True:\n",
    "        with open('sid.json', 'w') as f:\n",
    "            json.dump(sid_list, f)\n",
    "        with open('old_rules_.json', 'w') as f:\n",
    "            json.dump(temp_rule, f)\n",
    "#     print(sid_list)\n",
    "    for i in range(len(temp_rule)):\n",
    "        sid = sid_list[i]\n",
    "        rule_sid = temp_rule[i]+\" sid:\"+str(sid)+\";\\n\"\n",
    "        final_rule.append(rule_sid)\n",
    "    return final_rule\n",
    "\n",
    "def save_rules(rules_list, alamat = r\"/etc/snort/rules/local.rules\"):\n",
    "    try:            \n",
    "        f_out=open(alamat,\"w\") #ubah a\n",
    "    except:\n",
    "        f_out=open(\"local.rules\",\"w\")\n",
    "        \n",
    "    for rule in rules_list:\n",
    "        f_out.write(rule)\n",
    "    f_out.close()\n",
    "\n",
    "def convert_msg(protocol, port):\n",
    "    if protocol == 'tcp' and port == 80:\n",
    "        return \"sql injection\"\n",
    "    elif protocol == 'tcp':\n",
    "        return \"syn flood attack\"\n",
    "    elif protocol == \"icmp\":\n",
    "        return \"ping attack\"\n",
    "    else:\n",
    "        return \"<possible attack>\"\n",
    "    \n"
   ]
  },
  {
   "cell_type": "code",
   "execution_count": 41,
   "metadata": {},
   "outputs": [],
   "source": [
    "df = pd.read_csv(\"databaru.csv\", sep=\";\")\n",
    "# df = df[df['dest_port']==80]"
   ]
  },
  {
   "cell_type": "code",
   "execution_count": null,
   "metadata": {},
   "outputs": [],
   "source": []
  },
  {
   "cell_type": "code",
   "execution_count": 42,
   "metadata": {},
   "outputs": [],
   "source": [
    "final = find_used(df, batas_min = 10)\n",
    "final\n",
    "save_rules(get_rules(final, save = True))"
   ]
  },
  {
   "cell_type": "code",
   "execution_count": 133,
   "metadata": {},
   "outputs": [],
   "source": [
    "\n",
    "\n",
    "#     print('alert '+i[0]+' '+i[1]+' any -> '+str(i[2])+' '+str(i[3])+' any (msg: \"'+convert_msg(i[1], int(i[4]))+'\"; flags:S; thre$; threshold: type threshold, track by_dsr, count 1, second 60; sid:'+str(no+inc)+');rev: 1;\\n')"
   ]
  },
  {
   "cell_type": "code",
   "execution_count": 39,
   "metadata": {},
   "outputs": [
    {
     "ename": "TypeError",
     "evalue": "save_rules() missing 1 required positional argument: 'rules_list'",
     "output_type": "error",
     "traceback": [
      "\u001b[1;31m---------------------------------------------------------------------------\u001b[0m",
      "\u001b[1;31mTypeError\u001b[0m                                 Traceback (most recent call last)",
      "\u001b[1;32m<ipython-input-39-bc1609be07c1>\u001b[0m in \u001b[0;36m<module>\u001b[1;34m\u001b[0m\n\u001b[1;32m----> 1\u001b[1;33m \u001b[0msave_rules\u001b[0m\u001b[1;33m(\u001b[0m\u001b[1;33m)\u001b[0m\u001b[1;33m\u001b[0m\u001b[1;33m\u001b[0m\u001b[0m\n\u001b[0m",
      "\u001b[1;31mTypeError\u001b[0m: save_rules() missing 1 required positional argument: 'rules_list'"
     ]
    }
   ],
   "source": [
    "\n",
    "# save_rules()"
   ]
  },
  {
   "cell_type": "code",
   "execution_count": null,
   "metadata": {},
   "outputs": [],
   "source": []
  },
  {
   "cell_type": "code",
   "execution_count": 136,
   "metadata": {},
   "outputs": [],
   "source": [
    "# final_rule"
   ]
  },
  {
   "cell_type": "code",
   "execution_count": null,
   "metadata": {},
   "outputs": [],
   "source": []
  }
 ],
 "metadata": {
  "kernelspec": {
   "display_name": "Python 3",
   "language": "python",
   "name": "python3"
  }
 },
 "nbformat": 4,
 "nbformat_minor": 2
}
