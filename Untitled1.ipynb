{
 "cells": [
  {
   "cell_type": "code",
   "execution_count": 139,
   "metadata": {},
   "outputs": [],
   "source": []
  },
  {
   "cell_type": "code",
   "execution_count": 18,
   "metadata": {},
   "outputs": [],
   "source": [
    "import pandas as pd\n",
    "import numpy as np\n",
    "import numpy\n",
    "import json\n",
    "\n",
    "def to_str(data):\n",
    "    data = list(data)\n",
    "    for ix, i in enumerate(data):\n",
    "        i = i.tolist()\n",
    "        i[3]=str(i[3])\n",
    "#         print(i)\n",
    "        data[ix] = \" \".join(i)\n",
    "    return data\n",
    "\n",
    "def find_used(df, batas_min = 5):\n",
    "    df2 = df[['proto', 'source_ip', 'dest_ip', 'dest_port']]\n",
    "    xx = df2.to_numpy()\n",
    "    xx.tolist()\n",
    "    data_str = to_str(xx)\n",
    "    unik = list(set(data_str))\n",
    "\n",
    "    counter = list()\n",
    "    for u in unik:\n",
    "        counter.append(data_str.count(u))\n",
    "\n",
    "    index_final = list()\n",
    "    for ix, i in enumerate(counter):\n",
    "        if i >= batas_min:\n",
    "            index_final.append(ix)\n",
    "\n",
    "    final = np.array(unik)[index_final]\n",
    "    return final\n",
    "\n",
    "\n",
    "# with open('old_rules_.json', 'r') as f:\n",
    "#     temp_rule = json.load(f)\n",
    "# temp_rule = list()\n",
    "\n",
    "# with open('sid.json', 'r') as f:\n",
    "#     temp_sid = json.load(f)\n",
    "    \n",
    "# temp_sid = [10000]\n",
    "\n",
    "def get_sid(sqlinjection_sid, selected_rule_sqlinjection):\n",
    "    sqlinjection_sid_list =[x for x in range(sqlinjection_sid[-1], sqlinjection_sid[-1]+len(selected_rule_sqlinjection))]\n",
    "    sqlinjection_sid_list = sqlinjection_sid + sqlinjection_sid_list\n",
    "    return sqlinjection_sid_list\n",
    "\n",
    "def make_rule(data, sid_list):\n",
    "    result = list()\n",
    "    for i in range(len(data)):\n",
    "        sid = sid_list[i]\n",
    "        rule_sid = data[i]+\" sid:\"+str(sid)+\")\\n\"\n",
    "        result.append(rule_sid)\n",
    "    return result\n",
    "\n",
    "def save_json(data, namafile):\n",
    "    with open(namafile+'.json', 'w') as f:\n",
    "        json.dump(sid_list, f)\n",
    "        \n",
    "def open_json(nama_file):\n",
    "    with open(nama_file+'.json', 'r') as f:\n",
    "        temp_rule = json.load(f)\n",
    "    return temp_rule\n",
    "\n",
    "sqlinjection = open_json(\"sqlinjection\")\n",
    "synfloodattack = open_json(\"synfloodattack\")\n",
    "pingattack = open_json(\"pingattack\")\n",
    "\n",
    "sqlinjection_sid = open_json(\"sqlinjection_sid\")\n",
    "synfloodattack_sid = open_json(\"synfloodattack_sid\")\n",
    "pingattack_sid = open_json(\"pingattack_sid\")\n",
    "\n",
    "temp_rule = sqlinjection+synfloodattack+pingattack\n",
    "\n",
    "def get_rules(final, temp_rule=temp_rule, save = True, sqlinjection=sqlinjection, synfloodattack=synfloodattack,\n",
    "             pingattack=pingattack):\n",
    "    final_rule_sqlinjection = list()\n",
    "    final_rule_synfloodattack = list()\n",
    "    final_rule_pingattack = list()\n",
    "    \n",
    "    selected_rule_sqlinjection = list()\n",
    "    selected_rule_synfloodattack = list()\n",
    "    selected_rule_pingattack = list()\n",
    "    \n",
    "    for i in final:\n",
    "        i= i.split()\n",
    "        proto = i[0]\n",
    "        source_ip = i[1]\n",
    "        dest_ip = i[2]\n",
    "        dest_port = i[3]\n",
    "        msg = convert_msg(proto, int(dest_port))\n",
    "#         print(msg)\n",
    "        flag_dstnya = 'flags:S; thre$; threshold: type threshold, track by_dsc, count 1, second 60'\n",
    "        rule_ = str('alert {} {} any -> {} {} any (msg: \"{}\"; {}; rev: 1;'.format(proto, source_ip, dest_ip, dest_port, msg, flag_dstnya))\n",
    "        \n",
    "        if rule_ not in temp_rule:\n",
    "            if msg == \"sql injection\":\n",
    "                selected_rule_sqlinjection.append(rule_)\n",
    "#                 selected_rule.append(rule_)\n",
    "            elif msg == \"syn flood attack\":\n",
    "                selected_rule_synfloodattack.append(rule_)\n",
    "            elif msg == \"ping attack\":\n",
    "#                 print(rule_)\n",
    "                selected_rule_pingattack.append(rule_)\n",
    "\n",
    "    # print(len(selected_rule))\n",
    "    sqlinjection_sid_list = get_sid(sqlinjection_sid, selected_rule_sqlinjection)\n",
    "    sqlinjection = sqlinjection + selected_rule_sqlinjection\n",
    "    \n",
    "    synfloodattack_sid_list = get_sid(synfloodattack_sid, selected_rule_synfloodattack)\n",
    "    synfloodattack = synfloodattack + selected_rule_synfloodattack\n",
    "    \n",
    "    pingattack_sid_list = get_sid(synfloodattack_sid, selected_rule_synfloodattack)\n",
    "    pingattack = pingattack + selected_rule_pingattack\n",
    "    \n",
    "    if save == True:\n",
    "        save_json(sqlinjection_sid_list, \"sqlinjection_sid\")\n",
    "        save_json(sqlinjection, \"sqlinjection\")\n",
    "        save_json(synfloodattack_sid_list, \"synfloodattack_sid\")\n",
    "        save_json(synfloodattack, \"synfloodattack\")\n",
    "        save_json(pingattack_sid_list, \"pingattack_sid\")\n",
    "        save_json(pingattack, \"pingattack\")\n",
    "        \n",
    "    dict_rule = {\n",
    "        'sqlinjection':make_rule(sqlinjection, sqlinjection_sid_list),\n",
    "        'synfloodattack':make_rule(synfloodattack, synfloodattack_sid_list),\n",
    "        'pingattack':make_rule(pingattack, pingattack_sid_list)  \n",
    "    }\n",
    "    return dict_rule\n",
    "\n",
    "def save_rules(rules_list, nama_file, alamat = r\"/etc/snort/rules/rules_custom\"):\n",
    "    if len(rules_list)>0:\n",
    "        try:            \n",
    "            f_out=open(alamat,\"w\") #ubah a\n",
    "        except:\n",
    "            f_out=open(nama_file+\".rules\",\"w\")\n",
    "\n",
    "        for rule in rules_list:\n",
    "            f_out.write(rule)\n",
    "        f_out.close()\n",
    "    else:\n",
    "        pass\n",
    "        \n",
    "def convert_msg(protocol, port):\n",
    "    if protocol == 'tcp' and port == 80:\n",
    "        return \"sql injection\"\n",
    "    elif protocol == 'tcp':\n",
    "        return \"syn flood attack\"\n",
    "    elif protocol == \"icmp\":\n",
    "        return \"ping attack\"\n",
    "    else:\n",
    "        return \"<possible attack>\"\n",
    "    \n",
    "# sqlinjection = open_json(sqlinjection)\n",
    "# synfloodattack = open_json(synfloodattack)\n",
    "# pingattack = open_json(pingattack)\n",
    "\n",
    "# sqlinjection_sid = open_json(sqlinjection_sid)\n",
    "# synfloodattack_sid = open_json(synfloodattack_sid)\n",
    "# pingattack_sid = open_json(pingattack_sid)"
   ]
  },
  {
   "cell_type": "code",
   "execution_count": 19,
   "metadata": {},
   "outputs": [],
   "source": [
    "df = pd.read_csv(\"databaru.csv\", sep=\";\")\n",
    "# df = df[df['proto']==\"icmp\"]"
   ]
  },
  {
   "cell_type": "code",
   "execution_count": 20,
   "metadata": {},
   "outputs": [
    {
     "data": {
      "text/plain": [
       "72379"
      ]
     },
     "execution_count": 20,
     "metadata": {},
     "output_type": "execute_result"
    }
   ],
   "source": [
    "len(df)"
   ]
  },
  {
   "cell_type": "code",
   "execution_count": 21,
   "metadata": {},
   "outputs": [],
   "source": [
    "final = find_used(df, batas_min = 8)\n",
    "final\n",
    "rule = get_rules(final, save = False)\n",
    "# save_rules(get_rules(final, save = True))"
   ]
  },
  {
   "cell_type": "code",
   "execution_count": 22,
   "metadata": {},
   "outputs": [
    {
     "data": {
      "text/plain": [
       "['alert tcp 172.10.1.2 any -> 172.10.1.5 80 any (msg: \"sql injection\"; flags:S; thre$; threshold: type threshold, track by_dsc, count 1, second 60; rev: 1; sid:2000000)\\n']"
      ]
     },
     "execution_count": 22,
     "metadata": {},
     "output_type": "execute_result"
    }
   ],
   "source": [
    "rule['sqlinjection']"
   ]
  },
  {
   "cell_type": "code",
   "execution_count": 10,
   "metadata": {},
   "outputs": [
    {
     "data": {
      "text/plain": [
       "['alert icmp 172.10.1.2 any -> 172.10.1.5: 8 any msg: \"ping attack\"; flags:S; thre$; threshold: type threshold, track by_dsc, count 1, second 60; rev: 1; sid:3000000;\\n']"
      ]
     },
     "execution_count": 10,
     "metadata": {},
     "output_type": "execute_result"
    }
   ],
   "source": [
    "rule['pingattack']"
   ]
  },
  {
   "cell_type": "code",
   "execution_count": 11,
   "metadata": {},
   "outputs": [
    {
     "data": {
      "text/plain": [
       "['alert tcp 172.10.1.2 any -> 172.10.1.5 10004 any msg: \"syn flood attack\"; flags:S; thre$; threshold: type threshold, track by_dsc, count 1, second 60; rev: 1; sid:3000000;\\n',\n",
       " 'alert tcp 172.10.1.2 any -> 172.10.1.5 34571 any msg: \"syn flood attack\"; flags:S; thre$; threshold: type threshold, track by_dsc, count 1, second 60; rev: 1; sid:3000000;\\n',\n",
       " 'alert tcp 172.10.1.2 any -> 172.10.1.5 6002 any msg: \"syn flood attack\"; flags:S; thre$; threshold: type threshold, track by_dsc, count 1, second 60; rev: 1; sid:3000001;\\n',\n",
       " 'alert tcp 172.10.1.2 any -> 172.10.1.5 5950 any msg: \"syn flood attack\"; flags:S; thre$; threshold: type threshold, track by_dsc, count 1, second 60; rev: 1; sid:3000002;\\n',\n",
       " 'alert tcp 172.10.1.2 any -> 172.10.1.5 1875 any msg: \"syn flood attack\"; flags:S; thre$; threshold: type threshold, track by_dsc, count 1, second 60; rev: 1; sid:3000003;\\n',\n",
       " 'alert tcp 172.10.1.2 any -> 172.10.1.5 26 any msg: \"syn flood attack\"; flags:S; thre$; threshold: type threshold, track by_dsc, count 1, second 60; rev: 1; sid:3000004;\\n',\n",
       " 'alert tcp 172.10.1.2 any -> 172.10.1.5 1130 any msg: \"syn flood attack\"; flags:S; thre$; threshold: type threshold, track by_dsc, count 1, second 60; rev: 1; sid:3000005;\\n',\n",
       " 'alert tcp 172.10.1.2 any -> 172.10.1.5 6025 any msg: \"syn flood attack\"; flags:S; thre$; threshold: type threshold, track by_dsc, count 1, second 60; rev: 1; sid:3000006;\\n',\n",
       " 'alert tcp 172.10.1.2 any -> 172.10.1.5 8200 any msg: \"syn flood attack\"; flags:S; thre$; threshold: type threshold, track by_dsc, count 1, second 60; rev: 1; sid:3000007;\\n',\n",
       " 'alert tcp 172.10.1.2 any -> 172.10.1.5 1119 any msg: \"syn flood attack\"; flags:S; thre$; threshold: type threshold, track by_dsc, count 1, second 60; rev: 1; sid:3000008;\\n',\n",
       " 'alert tcp 172.10.1.2 any -> 172.10.1.5 2251 any msg: \"syn flood attack\"; flags:S; thre$; threshold: type threshold, track by_dsc, count 1, second 60; rev: 1; sid:3000009;\\n',\n",
       " 'alert tcp 172.10.1.2 any -> 172.10.1.5 8031 any msg: \"syn flood attack\"; flags:S; thre$; threshold: type threshold, track by_dsc, count 1, second 60; rev: 1; sid:3000010;\\n',\n",
       " 'alert tcp 172.10.1.2 any -> 172.10.1.5 49157 any msg: \"syn flood attack\"; flags:S; thre$; threshold: type threshold, track by_dsc, count 1, second 60; rev: 1; sid:3000011;\\n',\n",
       " 'alert tcp 172.10.1.2 any -> 172.10.1.5 1503 any msg: \"syn flood attack\"; flags:S; thre$; threshold: type threshold, track by_dsc, count 1, second 60; rev: 1; sid:3000012;\\n',\n",
       " 'alert tcp 172.10.1.2 any -> 172.10.1.5 23 any msg: \"syn flood attack\"; flags:S; thre$; threshold: type threshold, track by_dsc, count 1, second 60; rev: 1; sid:3000013;\\n',\n",
       " 'alert tcp 172.10.1.2 any -> 172.10.1.5 139 any msg: \"syn flood attack\"; flags:S; thre$; threshold: type threshold, track by_dsc, count 1, second 60; rev: 1; sid:3000014;\\n',\n",
       " 'alert tcp 172.10.1.2 any -> 172.10.1.5 543 any msg: \"syn flood attack\"; flags:S; thre$; threshold: type threshold, track by_dsc, count 1, second 60; rev: 1; sid:3000015;\\n',\n",
       " 'alert tcp 172.10.1.2 any -> 172.10.1.5 50800 any msg: \"syn flood attack\"; flags:S; thre$; threshold: type threshold, track by_dsc, count 1, second 60; rev: 1; sid:3000016;\\n',\n",
       " 'alert tcp 172.10.1.2 any -> 172.10.1.5 5631 any msg: \"syn flood attack\"; flags:S; thre$; threshold: type threshold, track by_dsc, count 1, second 60; rev: 1; sid:3000017;\\n',\n",
       " 'alert tcp 172.10.1.2 any -> 172.10.1.5 4444 any msg: \"syn flood attack\"; flags:S; thre$; threshold: type threshold, track by_dsc, count 1, second 60; rev: 1; sid:3000018;\\n',\n",
       " 'alert tcp 172.10.1.2 any -> 172.10.1.5 10082 any msg: \"syn flood attack\"; flags:S; thre$; threshold: type threshold, track by_dsc, count 1, second 60; rev: 1; sid:3000019;\\n',\n",
       " 'alert tcp 172.10.1.2 any -> 172.10.1.5 52848 any msg: \"syn flood attack\"; flags:S; thre$; threshold: type threshold, track by_dsc, count 1, second 60; rev: 1; sid:3000020;\\n',\n",
       " 'alert tcp 172.10.1.2 any -> 172.10.1.5 52673 any msg: \"syn flood attack\"; flags:S; thre$; threshold: type threshold, track by_dsc, count 1, second 60; rev: 1; sid:3000021;\\n',\n",
       " 'alert tcp 172.10.1.2 any -> 172.10.1.5 1145 any msg: \"syn flood attack\"; flags:S; thre$; threshold: type threshold, track by_dsc, count 1, second 60; rev: 1; sid:3000022;\\n']"
      ]
     },
     "execution_count": 11,
     "metadata": {},
     "output_type": "execute_result"
    }
   ],
   "source": [
    "rule['synfloodattack']"
   ]
  },
  {
   "cell_type": "code",
   "execution_count": 12,
   "metadata": {},
   "outputs": [
    {
     "data": {
      "text/plain": [
       "array(['tcp 172.10.1.2 172.10.1.5 80', 'tcp 172.10.1.2 172.10.1.5 10004',\n",
       "       'tcp 172.10.1.2 172.10.1.5 34571',\n",
       "       'tcp 172.10.1.2 172.10.1.5 6002', 'tcp 172.10.1.2 172.10.1.5 5950',\n",
       "       'tcp 172.10.1.2 172.10.1.5 1875', 'udp 172.10.1.2 172.10.1.5 123',\n",
       "       'tcp 172.10.1.2 172.10.1.5 26', 'tcp 172.10.1.2 172.10.1.5 1130',\n",
       "       'tcp 172.10.1.2 172.10.1.5 6025', 'tcp 172.10.1.2 172.10.1.5 8200',\n",
       "       'tcp 172.10.1.2 172.10.1.5 1119', 'tcp 172.10.1.2 172.10.1.5 2251',\n",
       "       'udp 172.10.1.2 172.10.1.5 161', 'udp 172.10.1.1 172.10.1.5 137',\n",
       "       'tcp 172.10.1.2 172.10.1.5 8031',\n",
       "       'tcp 172.10.1.2 172.10.1.5 49157',\n",
       "       'tcp 172.10.1.2 172.10.1.5 1503', 'tcp 172.10.1.2 172.10.1.5 23',\n",
       "       'tcp 172.10.1.2 172.10.1.5 139', 'icmp 172.10.1.2 172.10.1.5: 8',\n",
       "       'udp 172.10.1.2 172.10.1.5 162', 'tcp 172.10.1.2 172.10.1.5 543',\n",
       "       'tcp 172.10.1.2 172.10.1.5 50800',\n",
       "       'tcp 172.10.1.2 172.10.1.5 5631', 'udp 172.10.1.1 172.10.1.5 5353',\n",
       "       'tcp 172.10.1.2 172.10.1.5 4444',\n",
       "       'tcp 172.10.1.2 172.10.1.5 10082',\n",
       "       'tcp 172.10.1.2 172.10.1.5 52848',\n",
       "       'tcp 172.10.1.2 172.10.1.5 52673',\n",
       "       'tcp 172.10.1.2 172.10.1.5 1145'], dtype='<U31')"
      ]
     },
     "execution_count": 12,
     "metadata": {},
     "output_type": "execute_result"
    }
   ],
   "source": [
    "final"
   ]
  },
  {
   "cell_type": "code",
   "execution_count": 133,
   "metadata": {},
   "outputs": [],
   "source": [
    "\n",
    "\n",
    "#     print('alert '+i[0]+' '+i[1]+' any -> '+str(i[2])+' '+str(i[3])+' any (msg: \"'+convert_msg(i[1], int(i[4]))+'\"; flags:S; thre$; threshold: type threshold, track by_dsr, count 1, second 60; sid:'+str(no+inc)+');rev: 1;\\n')"
   ]
  },
  {
   "cell_type": "code",
   "execution_count": 39,
   "metadata": {},
   "outputs": [
    {
     "ename": "TypeError",
     "evalue": "save_rules() missing 1 required positional argument: 'rules_list'",
     "output_type": "error",
     "traceback": [
      "\u001b[1;31m---------------------------------------------------------------------------\u001b[0m",
      "\u001b[1;31mTypeError\u001b[0m                                 Traceback (most recent call last)",
      "\u001b[1;32m<ipython-input-39-bc1609be07c1>\u001b[0m in \u001b[0;36m<module>\u001b[1;34m\u001b[0m\n\u001b[1;32m----> 1\u001b[1;33m \u001b[0msave_rules\u001b[0m\u001b[1;33m(\u001b[0m\u001b[1;33m)\u001b[0m\u001b[1;33m\u001b[0m\u001b[1;33m\u001b[0m\u001b[0m\n\u001b[0m",
      "\u001b[1;31mTypeError\u001b[0m: save_rules() missing 1 required positional argument: 'rules_list'"
     ]
    }
   ],
   "source": [
    "\n",
    "# save_rules()"
   ]
  },
  {
   "cell_type": "code",
   "execution_count": null,
   "metadata": {},
   "outputs": [],
   "source": []
  },
  {
   "cell_type": "code",
   "execution_count": 136,
   "metadata": {},
   "outputs": [],
   "source": [
    "# final_rule"
   ]
  },
  {
   "cell_type": "code",
   "execution_count": null,
   "metadata": {},
   "outputs": [],
   "source": []
  }
 ],
 "metadata": {
  "kernelspec": {
   "display_name": "Python 3",
   "language": "python",
   "name": "python3"
  },
  "language_info": {
   "codemirror_mode": {
    "name": "ipython",
    "version": 3
   },
   "file_extension": ".py",
   "mimetype": "text/x-python",
   "name": "python",
   "nbconvert_exporter": "python",
   "pygments_lexer": "ipython3",
   "version": "3.7.3"
  }
 },
 "nbformat": 4,
 "nbformat_minor": 2
}
